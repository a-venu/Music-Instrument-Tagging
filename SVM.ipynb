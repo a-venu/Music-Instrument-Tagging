{
 "cells": [
  {
   "cell_type": "code",
   "execution_count": 2,
   "metadata": {},
   "outputs": [],
   "source": [
    "audio_train_files = os.listdir('/Users/Aiswaryaa/all/audio_musical_train')\n",
    "\n",
    "\n",
    "train = pd.read_csv('/Users/Aiswaryaa/all/train_music.csv')\n"
   ]
  },
  {
   "cell_type": "code",
   "execution_count": 3,
   "metadata": {},
   "outputs": [],
   "source": [
    "SAMPLE_RATE = 44100\n",
    "\n",
    "def clean_filename(fname, string):   \n",
    "    file_name = fname.split('/')[1]\n",
    "    if file_name[:2] == '__':        \n",
    "        file_name = string + file_name\n",
    "    return file_name\n",
    "\n",
    "# Generate mfcc features with mean and standard deviation\n",
    "def get_mfcc(name, path):\n",
    "    data, _ = librosa.core.load(path + name, sr = SAMPLE_RATE)\n",
    "    assert _ == SAMPLE_RATE\n",
    "    try:\n",
    "        ft1 = librosa.feature.mfcc(data, sr = SAMPLE_RATE, n_mfcc=30)\n",
    "        ft2 = librosa.feature.zero_crossing_rate(data)[0]\n",
    "        ft3 = librosa.feature.spectral_rolloff(data)[0]\n",
    "        ft4 = librosa.feature.spectral_centroid(data)[0]\n",
    "        ft5 = librosa.feature.spectral_contrast(data)[0]\n",
    "        ft6 = librosa.feature.spectral_bandwidth(data)[0]\n",
    "        ft1_trunc = np.hstack((np.mean(ft1, axis=1), np.std(ft1, axis=1), skew(ft1, axis = 1), np.max(ft1, axis = 1), np.median(ft1, axis = 1), np.min(ft1, axis = 1)))\n",
    "        ft2_trunc = np.hstack((np.mean(ft2), np.std(ft2), skew(ft2), np.max(ft2), np.median(ft2), np.min(ft2)))\n",
    "        ft3_trunc = np.hstack((np.mean(ft3), np.std(ft3), skew(ft3), np.max(ft3), np.median(ft3), np.min(ft3)))\n",
    "        ft4_trunc = np.hstack((np.mean(ft4), np.std(ft4), skew(ft4), np.max(ft4), np.median(ft4), np.min(ft4)))\n",
    "        ft5_trunc = np.hstack((np.mean(ft5), np.std(ft5), skew(ft5), np.max(ft5), np.median(ft5), np.min(ft5)))\n",
    "        ft6_trunc = np.hstack((np.mean(ft6), np.std(ft6), skew(ft6), np.max(ft6), np.median(ft6), np.max(ft6)))\n",
    "        return pd.Series(np.hstack((ft1_trunc, ft2_trunc, ft3_trunc, ft4_trunc, ft5_trunc, ft6_trunc)))\n",
    "    except:\n",
    "        print('bad file')\n",
    "        return pd.Series([0]*210)"
   ]
  },
  {
   "cell_type": "code",
   "execution_count": 1,
   "metadata": {},
   "outputs": [],
   "source": [
    "import numpy as np\n",
    "import pandas as pd\n",
    "\n",
    "import os\n",
    "import librosa\n",
    "\n",
    "import scipy\n",
    "from scipy.stats import skew\n",
    "from tqdm import tqdm, tqdm_pandas\n",
    "\n",
    "tqdm.pandas()\n",
    "\n",
    "from sklearn.model_selection import GridSearchCV\n",
    "from sklearn.model_selection import train_test_split\n",
    "from sklearn.metrics import accuracy_score\n",
    "from sklearn.metrics import confusion_matrix\n",
    "from sklearn.metrics import precision_score\n",
    "from sklearn.metrics import recall_score\n",
    "from sklearn.preprocessing import StandardScaler\n",
    "from sklearn.decomposition import PCA\n",
    "\n",
    "from sklearn.svm import SVC"
   ]
  },
  {
   "cell_type": "code",
   "execution_count": 5,
   "metadata": {},
   "outputs": [
    {
     "name": "stderr",
     "output_type": "stream",
     "text": [
      "100%|██████████| 4336/4336 [15:46<00:00,  2.94it/s]"
     ]
    },
    {
     "name": "stdout",
     "output_type": "stream",
     "text": [
      "done loading train mfcc\n"
     ]
    },
    {
     "name": "stderr",
     "output_type": "stream",
     "text": [
      "\n"
     ]
    }
   ],
   "source": [
    "train_data = pd.DataFrame()\n",
    "train_data['fname'] = train['fname']\n",
    "#test_data = pd.DataFrame()\n",
    "#test_data['fname'] = audio_test_files\n",
    "\n",
    "train_data = train_data['fname'].progress_apply(get_mfcc, path='/Users/Aiswaryaa/all/audio_musical_train/')\n",
    "print('done loading train mfcc')\n",
    "#test_data = test_data['fname'].progress_apply(get_mfcc, path='../input/audio_test/')\n",
    "#print('done loading test mfcc')\n",
    "\n",
    "train_data['fname'] = train['fname']\n",
    "#test_data['fname'] = audio_test_files\n",
    "\n",
    "train_data['label'] = train['label']\n",
    "#test_data['label'] = np.zeros((len(audio_test_files)))"
   ]
  },
  {
   "cell_type": "code",
   "execution_count": 6,
   "metadata": {},
   "outputs": [
    {
     "data": {
      "text/html": [
       "<div>\n",
       "<style scoped>\n",
       "    .dataframe tbody tr th:only-of-type {\n",
       "        vertical-align: middle;\n",
       "    }\n",
       "\n",
       "    .dataframe tbody tr th {\n",
       "        vertical-align: top;\n",
       "    }\n",
       "\n",
       "    .dataframe thead th {\n",
       "        text-align: right;\n",
       "    }\n",
       "</style>\n",
       "<table border=\"1\" class=\"dataframe\">\n",
       "  <thead>\n",
       "    <tr style=\"text-align: right;\">\n",
       "      <th></th>\n",
       "      <th>0</th>\n",
       "      <th>1</th>\n",
       "      <th>2</th>\n",
       "      <th>3</th>\n",
       "      <th>4</th>\n",
       "      <th>5</th>\n",
       "      <th>6</th>\n",
       "      <th>7</th>\n",
       "      <th>8</th>\n",
       "      <th>9</th>\n",
       "      <th>...</th>\n",
       "      <th>202</th>\n",
       "      <th>203</th>\n",
       "      <th>204</th>\n",
       "      <th>205</th>\n",
       "      <th>206</th>\n",
       "      <th>207</th>\n",
       "      <th>208</th>\n",
       "      <th>209</th>\n",
       "      <th>fname</th>\n",
       "      <th>label</th>\n",
       "    </tr>\n",
       "  </thead>\n",
       "  <tbody>\n",
       "    <tr>\n",
       "      <th>0</th>\n",
       "      <td>-375.754678</td>\n",
       "      <td>151.572502</td>\n",
       "      <td>-41.933635</td>\n",
       "      <td>-0.165071</td>\n",
       "      <td>5.955898</td>\n",
       "      <td>-12.535086</td>\n",
       "      <td>-13.192531</td>\n",
       "      <td>-13.657687</td>\n",
       "      <td>-9.174413</td>\n",
       "      <td>-19.668802</td>\n",
       "      <td>...</td>\n",
       "      <td>34.161463</td>\n",
       "      <td>6.676251</td>\n",
       "      <td>906.662232</td>\n",
       "      <td>506.447373</td>\n",
       "      <td>3.305549</td>\n",
       "      <td>3388.692162</td>\n",
       "      <td>733.209469</td>\n",
       "      <td>3388.692162</td>\n",
       "      <td>001ca53d.wav</td>\n",
       "      <td>Saxophone</td>\n",
       "    </tr>\n",
       "    <tr>\n",
       "      <th>1</th>\n",
       "      <td>-658.236035</td>\n",
       "      <td>102.368917</td>\n",
       "      <td>20.626247</td>\n",
       "      <td>9.108918</td>\n",
       "      <td>-4.891736</td>\n",
       "      <td>7.259463</td>\n",
       "      <td>-1.862530</td>\n",
       "      <td>1.661778</td>\n",
       "      <td>5.499974</td>\n",
       "      <td>5.338336</td>\n",
       "      <td>...</td>\n",
       "      <td>18.050029</td>\n",
       "      <td>8.280023</td>\n",
       "      <td>2840.134501</td>\n",
       "      <td>611.530727</td>\n",
       "      <td>-0.202585</td>\n",
       "      <td>3631.676275</td>\n",
       "      <td>2698.475507</td>\n",
       "      <td>3631.676275</td>\n",
       "      <td>002d256b.wav</td>\n",
       "      <td>Trumpet</td>\n",
       "    </tr>\n",
       "    <tr>\n",
       "      <th>2</th>\n",
       "      <td>-770.905450</td>\n",
       "      <td>16.077204</td>\n",
       "      <td>-3.556132</td>\n",
       "      <td>-10.957762</td>\n",
       "      <td>-19.071291</td>\n",
       "      <td>-9.632298</td>\n",
       "      <td>4.279781</td>\n",
       "      <td>14.633798</td>\n",
       "      <td>19.459229</td>\n",
       "      <td>12.089039</td>\n",
       "      <td>...</td>\n",
       "      <td>20.719852</td>\n",
       "      <td>13.943471</td>\n",
       "      <td>2758.526365</td>\n",
       "      <td>772.741940</td>\n",
       "      <td>-0.909257</td>\n",
       "      <td>3553.924270</td>\n",
       "      <td>3235.174665</td>\n",
       "      <td>3553.924270</td>\n",
       "      <td>0033e230.wav</td>\n",
       "      <td>Glockenspiel</td>\n",
       "    </tr>\n",
       "    <tr>\n",
       "      <th>3</th>\n",
       "      <td>-343.603965</td>\n",
       "      <td>137.873119</td>\n",
       "      <td>-28.701815</td>\n",
       "      <td>8.593180</td>\n",
       "      <td>2.751699</td>\n",
       "      <td>-0.301433</td>\n",
       "      <td>-9.502459</td>\n",
       "      <td>-3.774746</td>\n",
       "      <td>13.056789</td>\n",
       "      <td>7.197487</td>\n",
       "      <td>...</td>\n",
       "      <td>23.051968</td>\n",
       "      <td>8.232091</td>\n",
       "      <td>1639.312250</td>\n",
       "      <td>657.051222</td>\n",
       "      <td>1.086833</td>\n",
       "      <td>3113.026574</td>\n",
       "      <td>1267.272974</td>\n",
       "      <td>3113.026574</td>\n",
       "      <td>00353774.wav</td>\n",
       "      <td>Cello</td>\n",
       "    </tr>\n",
       "    <tr>\n",
       "      <th>4</th>\n",
       "      <td>-419.995811</td>\n",
       "      <td>220.987791</td>\n",
       "      <td>27.719369</td>\n",
       "      <td>21.398867</td>\n",
       "      <td>25.172284</td>\n",
       "      <td>19.790138</td>\n",
       "      <td>-5.250976</td>\n",
       "      <td>-1.614069</td>\n",
       "      <td>-3.515045</td>\n",
       "      <td>-3.540092</td>\n",
       "      <td>...</td>\n",
       "      <td>24.136753</td>\n",
       "      <td>12.163386</td>\n",
       "      <td>869.704859</td>\n",
       "      <td>171.794464</td>\n",
       "      <td>4.455394</td>\n",
       "      <td>2372.706817</td>\n",
       "      <td>836.479043</td>\n",
       "      <td>2372.706817</td>\n",
       "      <td>003b91e8.wav</td>\n",
       "      <td>Cello</td>\n",
       "    </tr>\n",
       "  </tbody>\n",
       "</table>\n",
       "<p>5 rows × 212 columns</p>\n",
       "</div>"
      ],
      "text/plain": [
       "            0           1          2          3          4          5  \\\n",
       "0 -375.754678  151.572502 -41.933635  -0.165071   5.955898 -12.535086   \n",
       "1 -658.236035  102.368917  20.626247   9.108918  -4.891736   7.259463   \n",
       "2 -770.905450   16.077204  -3.556132 -10.957762 -19.071291  -9.632298   \n",
       "3 -343.603965  137.873119 -28.701815   8.593180   2.751699  -0.301433   \n",
       "4 -419.995811  220.987791  27.719369  21.398867  25.172284  19.790138   \n",
       "\n",
       "           6          7          8          9  ...        202        203  \\\n",
       "0 -13.192531 -13.657687  -9.174413 -19.668802  ...  34.161463   6.676251   \n",
       "1  -1.862530   1.661778   5.499974   5.338336  ...  18.050029   8.280023   \n",
       "2   4.279781  14.633798  19.459229  12.089039  ...  20.719852  13.943471   \n",
       "3  -9.502459  -3.774746  13.056789   7.197487  ...  23.051968   8.232091   \n",
       "4  -5.250976  -1.614069  -3.515045  -3.540092  ...  24.136753  12.163386   \n",
       "\n",
       "           204         205       206          207          208          209  \\\n",
       "0   906.662232  506.447373  3.305549  3388.692162   733.209469  3388.692162   \n",
       "1  2840.134501  611.530727 -0.202585  3631.676275  2698.475507  3631.676275   \n",
       "2  2758.526365  772.741940 -0.909257  3553.924270  3235.174665  3553.924270   \n",
       "3  1639.312250  657.051222  1.086833  3113.026574  1267.272974  3113.026574   \n",
       "4   869.704859  171.794464  4.455394  2372.706817   836.479043  2372.706817   \n",
       "\n",
       "          fname         label  \n",
       "0  001ca53d.wav     Saxophone  \n",
       "1  002d256b.wav       Trumpet  \n",
       "2  0033e230.wav  Glockenspiel  \n",
       "3  00353774.wav         Cello  \n",
       "4  003b91e8.wav         Cello  \n",
       "\n",
       "[5 rows x 212 columns]"
      ]
     },
     "execution_count": 6,
     "metadata": {},
     "output_type": "execute_result"
    }
   ],
   "source": [
    "train_data.head()"
   ]
  },
  {
   "cell_type": "code",
   "execution_count": 7,
   "metadata": {},
   "outputs": [],
   "source": [
    "X = train_data.drop(['label', 'fname'], axis=1)\n",
    "feature_names = list(X.columns)\n",
    "X = X.values\n",
    "labels = np.sort(np.unique(train_data.label.values))\n",
    "num_class = len(labels)\n",
    "c2i = {}\n",
    "i2c = {}\n",
    "for i, c in enumerate(labels):\n",
    "    c2i[c] = i\n",
    "    i2c[i] = c\n",
    "y = np.array([c2i[x] for x in train_data.label.values])"
   ]
  },
  {
   "cell_type": "code",
   "execution_count": 8,
   "metadata": {},
   "outputs": [],
   "source": [
    "scaler = StandardScaler()\n",
    "X_scaled = scaler.fit_transform(X)"
   ]
  },
  {
   "cell_type": "code",
   "execution_count": 9,
   "metadata": {},
   "outputs": [],
   "source": [
    "pca = PCA(n_components=65).fit(X_scaled)\n",
    "X_pca = pca.transform(X_scaled)"
   ]
  },
  {
   "cell_type": "code",
   "execution_count": 11,
   "metadata": {},
   "outputs": [],
   "source": [
    "X_train, X_val, y_train, y_val = train_test_split(X_pca, y, test_size = 0.3, random_state = 42)\n"
   ]
  },
  {
   "cell_type": "code",
   "execution_count": 12,
   "metadata": {},
   "outputs": [],
   "source": [
    "clf = SVC(kernel = 'rbf', probability=True)\n"
   ]
  },
  {
   "cell_type": "code",
   "execution_count": 13,
   "metadata": {},
   "outputs": [
    {
     "name": "stderr",
     "output_type": "stream",
     "text": [
      "/Library/Frameworks/Python.framework/Versions/3.7/lib/python3.7/site-packages/sklearn/svm/base.py:196: FutureWarning: The default value of gamma will change from 'auto' to 'scale' in version 0.22 to account better for unscaled features. Set gamma explicitly to 'auto' or 'scale' to avoid this warning.\n",
      "  \"avoid this warning.\", FutureWarning)\n"
     ]
    },
    {
     "data": {
      "text/plain": [
       "SVC(C=1.0, cache_size=200, class_weight=None, coef0=0.0,\n",
       "  decision_function_shape='ovr', degree=3, gamma='auto_deprecated',\n",
       "  kernel='rbf', max_iter=-1, probability=True, random_state=None,\n",
       "  shrinking=True, tol=0.001, verbose=False)"
      ]
     },
     "execution_count": 13,
     "metadata": {},
     "output_type": "execute_result"
    }
   ],
   "source": [
    "clf.fit(X_train, y_train)"
   ]
  },
  {
   "cell_type": "code",
   "execution_count": 14,
   "metadata": {},
   "outputs": [
    {
     "name": "stdout",
     "output_type": "stream",
     "text": [
      "0.7847809377401999\n"
     ]
    }
   ],
   "source": [
    "print(accuracy_score(clf.predict(X_val), y_val))"
   ]
  },
  {
   "cell_type": "code",
   "execution_count": 15,
   "metadata": {},
   "outputs": [
    {
     "name": "stdout",
     "output_type": "stream",
     "text": [
      "0.7769357495881384\n",
      "{'C': 10, 'gamma': 0.01}\n",
      "SVC(C=10, cache_size=200, class_weight=None, coef0=0.0,\n",
      "  decision_function_shape='ovr', degree=3, gamma=0.01, kernel='rbf',\n",
      "  max_iter=-1, probability=False, random_state=None, shrinking=True,\n",
      "  tol=0.001, verbose=False)\n"
     ]
    }
   ],
   "source": [
    "C_grid = [0.001, 0.01, 0.1, 1, 10]\n",
    "gamma_grid = [0.001, 0.01, 0.1, 1, 10]\n",
    "param_grid = {'C': C_grid, 'gamma' : gamma_grid}\n",
    "\n",
    "grid = GridSearchCV(SVC(kernel='rbf'), param_grid, cv = 3, scoring = \"accuracy\")\n",
    "grid.fit(X_train, y_train)\n",
    "\n",
    "# Find the best model\n",
    "print(grid.best_score_)\n",
    "\n",
    "print(grid.best_params_)\n",
    "\n",
    "print(grid.best_estimator_)"
   ]
  },
  {
   "cell_type": "code",
   "execution_count": 16,
   "metadata": {},
   "outputs": [
    {
     "name": "stdout",
     "output_type": "stream",
     "text": [
      "0.8270561106840891\n"
     ]
    }
   ],
   "source": [
    "clf = SVC(kernel = 'rbf', C = 4, gamma = 0.01, probability=True)\n",
    "\n",
    "clf.fit(X_train, y_train)\n",
    "\n",
    "print(accuracy_score(clf.predict(X_val), y_val))"
   ]
  },
  {
   "cell_type": "code",
   "execution_count": 17,
   "metadata": {},
   "outputs": [
    {
     "name": "stdout",
     "output_type": "stream",
     "text": [
      "[[69  0  4  2  0  1  1  1  0  4  0  0  0  0  1  1  1]\n",
      " [ 0 81  0  0  0  0  1  1  0  0  0  0  1  5  0  1  0]\n",
      " [ 2  0 71  0  0  4  2  1  0  8  1  0  3  0  0  3  1]\n",
      " [ 0  0  0 25  0  0  0  1  2  0  1  0  0  1  1  0  0]\n",
      " [ 0  0  1  0 83  0  0  3  0  0  2  3  3  0  0  3  0]\n",
      " [ 0  2  1  0  0 86  1  0  0  3  0  0  0  0  0  0  0]\n",
      " [ 2  1  1  0  0  1 29  0  0  1  0  0  0  0  0  0  0]\n",
      " [ 6  3  3  3  4  0  1 64  0  6  4  0  5  1  1  4  2]\n",
      " [ 0  0  0  0  0  0  1  1 28  0  0  0  0  0  0  0  1]\n",
      " [ 2  1  1  0  0  2  1  1  0 55  0  0  1  2  0  0  0]\n",
      " [ 0  0  0  1  0  0  0  0  0  0 34  0  1  1  0  1  2]\n",
      " [ 0  0  0  0  6  0  0  0  0  0  0 78  1  0  0  1  0]\n",
      " [ 0  0  3  0  3  2  1  4  0  1  2  1 87  0  0  6  3]\n",
      " [ 2  3  0  0  0  0  0  1  0  1  0  0  0 83  5  0  1]\n",
      " [ 0  0  0  1  0  0  0  0  0  1  0  0  0  0 55  0  0]\n",
      " [ 0  0  1  1  0  1  0  2  0  3  0  1  1  1  0 74  2]\n",
      " [ 3  0  3  0  0  0  0  5  0  1  0  0  1  1  0  2 74]]\n"
     ]
    }
   ],
   "source": [
    "print(confusion_matrix(clf.predict(X_val), y_val))"
   ]
  },
  {
   "cell_type": "code",
   "execution_count": 18,
   "metadata": {},
   "outputs": [],
   "source": [
    "cm=confusion_matrix(clf.predict(X_val), y_val)"
   ]
  },
  {
   "cell_type": "code",
   "execution_count": 19,
   "metadata": {},
   "outputs": [],
   "source": [
    "p=list()\n",
    "for i in range(len(cm)):\n",
    "    d=0\n",
    "    for j in range(len(cm[i])):\n",
    "        d=d+ cm[j][i]\n",
    "    p.append(cm[i][i]/d)"
   ]
  },
  {
   "cell_type": "code",
   "execution_count": 20,
   "metadata": {},
   "outputs": [
    {
     "name": "stdout",
     "output_type": "stream",
     "text": [
      "[0.8023255813953488, 0.8901098901098901, 0.797752808988764, 0.7575757575757576, 0.8645833333333334, 0.8865979381443299, 0.7631578947368421, 0.7529411764705882, 0.9333333333333333, 0.6547619047619048, 0.7727272727272727, 0.9397590361445783, 0.8365384615384616, 0.8736842105263158, 0.873015873015873, 0.7708333333333334, 0.8505747126436781]\n",
      "17\n"
     ]
    }
   ],
   "source": [
    "print(p)\n",
    "print(len(p))"
   ]
  },
  {
   "cell_type": "code",
   "execution_count": 21,
   "metadata": {},
   "outputs": [],
   "source": [
    "r=list()\n",
    "for i in range(len(cm)):\n",
    "    d=0\n",
    "    for j in range(len(cm[i])):\n",
    "        d=d+ cm[i][j]\n",
    "    r.append(cm[i][i]/d)"
   ]
  },
  {
   "cell_type": "code",
   "execution_count": 22,
   "metadata": {},
   "outputs": [
    {
     "name": "stdout",
     "output_type": "stream",
     "text": [
      "[0.8117647058823529, 0.9, 0.7395833333333334, 0.8064516129032258, 0.8469387755102041, 0.9247311827956989, 0.8285714285714286, 0.5981308411214953, 0.9032258064516129, 0.8333333333333334, 0.85, 0.9069767441860465, 0.7699115044247787, 0.8645833333333334, 0.9649122807017544, 0.8505747126436781, 0.8222222222222222]\n",
      "17\n",
      "17\n"
     ]
    }
   ],
   "source": [
    "print(r)\n",
    "print(len(r))\n",
    "b=['1','2','3','4','5','6','7','8','9','10','11','12','13','14','15','16','17']\n",
    "print(len(b))"
   ]
  },
  {
   "cell_type": "code",
   "execution_count": 30,
   "metadata": {},
   "outputs": [
    {
     "data": {
      "image/png": "[encoded data removed]",
      "text/plain": [
       "<Figure size 432x288 with 1 Axes>"
      ]
     },
     "metadata": {
      "needs_background": "light"
     },
     "output_type": "display_data"
    }
   ],
   "source": [
    "import matplotlib.pyplot as plt\n",
    "\n",
    "b=['1','2','3','4','5','6','7','8','9','10','11','12','13','14','15','16','17']\n",
    "plt.plot(b, p, 'b', label='Split Fraction')\n",
    "plt.title('Precision curve')\n",
    "plt.xlabel('Class')\n",
    "plt.ylabel('Precision')\n",
    "plt.legend()\n",
    "\n",
    "plt.show()"
   ]
  },
  {
   "cell_type": "code",
   "execution_count": 24,
   "metadata": {},
   "outputs": [
    {
     "data": {
      "image/png": "[encoded data removed]",
      "text/plain": [
       "<Figure size 432x288 with 1 Axes>"
      ]
     },
     "metadata": {
      "needs_background": "light"
     },
     "output_type": "display_data"
    }
   ],
   "source": [
    "import matplotlib.pyplot as plt\n",
    "\n",
    "b=['1','2','3','4','5','6','7','8','9','10','11','12','13','14','15','16','17']\n",
    "plt.plot(b, r, 'b', label='Split Fraction')\n",
    "plt.title('Recall curve')\n",
    "plt.xlabel('Class')\n",
    "plt.ylabel('Recall')\n",
    "plt.legend()\n",
    "\n",
    "plt.show()"
   ]
  },
  {
   "cell_type": "code",
   "execution_count": 25,
   "metadata": {},
   "outputs": [],
   "source": [
    "f=list()\n",
    "for i in range(len(r)):\n",
    "    f.append(2*p[i]*r[i]/(p[i]+r[i]))"
   ]
  },
  {
   "cell_type": "code",
   "execution_count": 26,
   "metadata": {},
   "outputs": [
    {
     "data": {
      "image/png": "[encoded data removed]",
      "text/plain": [
       "<Figure size 432x288 with 1 Axes>"
      ]
     },
     "metadata": {
      "needs_background": "light"
     },
     "output_type": "display_data"
    }
   ],
   "source": [
    "import matplotlib.pyplot as plt\n",
    "\n",
    "b=['1','2','3','4','5','6','7','8','9','10','11','12','13','14','15','16','17']\n",
    "plt.plot(b, f, 'b', label='Split Fraction')\n",
    "plt.title('f1 score curve')\n",
    "plt.xlabel('Class')\n",
    "plt.ylabel('f1 score')\n",
    "plt.legend()\n",
    "\n",
    "plt.show()"
   ]
  },
  {
   "cell_type": "code",
   "execution_count": 27,
   "metadata": {},
   "outputs": [
    {
     "name": "stdout",
     "output_type": "stream",
     "text": [
      "avg precision 0.8247219128693885\n"
     ]
    }
   ],
   "source": [
    "avgp=0\n",
    "c=0\n",
    "for i in range(len(p)):\n",
    "    c=c+p[i]\n",
    "avgp=(c/17)\n",
    "print(\"avg precision\",avgp)"
   ]
  },
  {
   "cell_type": "code",
   "execution_count": 28,
   "metadata": {},
   "outputs": [
    {
     "name": "stdout",
     "output_type": "stream",
     "text": [
      "avg Recall 0.8365830480832058\n"
     ]
    }
   ],
   "source": [
    "avgr=0\n",
    "c=0\n",
    "for i in range(len(r)):\n",
    "    c=c+r[i]\n",
    "avgr=(c/17)\n",
    "print(\"avg Recall\",avgr)"
   ]
  },
  {
   "cell_type": "code",
   "execution_count": 29,
   "metadata": {},
   "outputs": [
    {
     "name": "stdout",
     "output_type": "stream",
     "text": [
      "avg F1 score 0.8287924328192713\n"
     ]
    }
   ],
   "source": [
    "avgf=0\n",
    "c=0\n",
    "for i in range(len(f)):\n",
    "    c=c+f[i]\n",
    "avgf=(c/17)\n",
    "print(\"avg F1 score\",avgf)"
   ]
  },
  {
   "cell_type": "code",
   "execution_count": null,
   "metadata": {},
   "outputs": [],
   "source": []
  }
 ],
 "metadata": {
  "kernelspec": {
   "display_name": "Python 3",
   "language": "python",
   "name": "python3"
  },
  "language_info": {
   "codemirror_mode": {
    "name": "ipython",
    "version": 3
   },
   "file_extension": ".py",
   "mimetype": "text/x-python",
   "name": "python",
   "nbconvert_exporter": "python",
   "pygments_lexer": "ipython3",
   "version": "3.7.4"
  }
 },
 "nbformat": 4,
 "nbformat_minor": 2
}
